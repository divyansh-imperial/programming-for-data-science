{
 "cells": [
  {
   "cell_type": "markdown",
   "metadata": {},
   "source": [
    "### Predicting diabetes using logistic regression"
   ]
  },
  {
   "cell_type": "markdown",
   "metadata": {},
   "source": [
    "In this notebook, I build a logistic regression model to predict whether someone has diabetes or not based on several input parameters. The data used is public and can be found here - [https://www.kaggle.com/uciml/pima-indians-diabetes-database](https://www.kaggle.com/uciml/pima-indians-diabetes-database)"
   ]
  },
  {
   "cell_type": "markdown",
   "metadata": {},
   "source": [
    "### Following steps have been followed - \n",
    "\n",
    "1. Loading the data in this notebook (assuming we have a copy of the data as a csv)\n",
    "2. Processing and cleaning it so that it can go inside the model used followed by splitting it to train and test set.\n",
    "3. Building the model.\n",
    "4. Analysing the output of the model and calculate the accuracy / performance of the model using test set."
   ]
  },
  {
   "cell_type": "code",
   "execution_count": 3,
   "metadata": {},
   "outputs": [],
   "source": [
    "import pandas as pd # Funcionality for performing data analysis \n",
    "import matplotlib.pyplot as plt  # Functionality to visualise our data\n",
    "\n",
    "diabetes_data = pd.read_csv(\"DiabetesData.csv\") # Read in a file and store it in a Pandas dataframe"
   ]
  },
  {
   "cell_type": "code",
   "execution_count": 4,
   "metadata": {},
   "outputs": [
    {
     "data": {
      "text/html": [
       "<div>\n",
       "<style scoped>\n",
       "    .dataframe tbody tr th:only-of-type {\n",
       "        vertical-align: middle;\n",
       "    }\n",
       "\n",
       "    .dataframe tbody tr th {\n",
       "        vertical-align: top;\n",
       "    }\n",
       "\n",
       "    .dataframe thead th {\n",
       "        text-align: right;\n",
       "    }\n",
       "</style>\n",
       "<table border=\"1\" class=\"dataframe\">\n",
       "  <thead>\n",
       "    <tr style=\"text-align: right;\">\n",
       "      <th></th>\n",
       "      <th>pregnant</th>\n",
       "      <th>glucose</th>\n",
       "      <th>pressure</th>\n",
       "      <th>triceps</th>\n",
       "      <th>insulin</th>\n",
       "      <th>mass</th>\n",
       "      <th>pedigree</th>\n",
       "      <th>age</th>\n",
       "      <th>diabetes</th>\n",
       "    </tr>\n",
       "  </thead>\n",
       "  <tbody>\n",
       "    <tr>\n",
       "      <th>0</th>\n",
       "      <td>6</td>\n",
       "      <td>148.0</td>\n",
       "      <td>72.0</td>\n",
       "      <td>35.0</td>\n",
       "      <td>NaN</td>\n",
       "      <td>33.6</td>\n",
       "      <td>0.627</td>\n",
       "      <td>50</td>\n",
       "      <td>pos</td>\n",
       "    </tr>\n",
       "    <tr>\n",
       "      <th>1</th>\n",
       "      <td>1</td>\n",
       "      <td>85.0</td>\n",
       "      <td>66.0</td>\n",
       "      <td>29.0</td>\n",
       "      <td>NaN</td>\n",
       "      <td>26.6</td>\n",
       "      <td>0.351</td>\n",
       "      <td>31</td>\n",
       "      <td>neg</td>\n",
       "    </tr>\n",
       "    <tr>\n",
       "      <th>2</th>\n",
       "      <td>8</td>\n",
       "      <td>183.0</td>\n",
       "      <td>64.0</td>\n",
       "      <td>NaN</td>\n",
       "      <td>NaN</td>\n",
       "      <td>23.3</td>\n",
       "      <td>0.672</td>\n",
       "      <td>32</td>\n",
       "      <td>pos</td>\n",
       "    </tr>\n",
       "    <tr>\n",
       "      <th>3</th>\n",
       "      <td>1</td>\n",
       "      <td>89.0</td>\n",
       "      <td>66.0</td>\n",
       "      <td>23.0</td>\n",
       "      <td>94.0</td>\n",
       "      <td>28.1</td>\n",
       "      <td>0.167</td>\n",
       "      <td>21</td>\n",
       "      <td>neg</td>\n",
       "    </tr>\n",
       "    <tr>\n",
       "      <th>4</th>\n",
       "      <td>0</td>\n",
       "      <td>137.0</td>\n",
       "      <td>40.0</td>\n",
       "      <td>35.0</td>\n",
       "      <td>168.0</td>\n",
       "      <td>43.1</td>\n",
       "      <td>2.288</td>\n",
       "      <td>33</td>\n",
       "      <td>pos</td>\n",
       "    </tr>\n",
       "  </tbody>\n",
       "</table>\n",
       "</div>"
      ],
      "text/plain": [
       "   pregnant  glucose  pressure  triceps  insulin  mass  pedigree  age diabetes\n",
       "0         6    148.0      72.0     35.0      NaN  33.6     0.627   50      pos\n",
       "1         1     85.0      66.0     29.0      NaN  26.6     0.351   31      neg\n",
       "2         8    183.0      64.0      NaN      NaN  23.3     0.672   32      pos\n",
       "3         1     89.0      66.0     23.0     94.0  28.1     0.167   21      neg\n",
       "4         0    137.0      40.0     35.0    168.0  43.1     2.288   33      pos"
      ]
     },
     "execution_count": 4,
     "metadata": {},
     "output_type": "execute_result"
    }
   ],
   "source": [
    "diabetes_data.head()"
   ]
  },
  {
   "cell_type": "code",
   "execution_count": 6,
   "metadata": {},
   "outputs": [
    {
     "data": {
      "text/html": [
       "<div>\n",
       "<style scoped>\n",
       "    .dataframe tbody tr th:only-of-type {\n",
       "        vertical-align: middle;\n",
       "    }\n",
       "\n",
       "    .dataframe tbody tr th {\n",
       "        vertical-align: top;\n",
       "    }\n",
       "\n",
       "    .dataframe thead th {\n",
       "        text-align: right;\n",
       "    }\n",
       "</style>\n",
       "<table border=\"1\" class=\"dataframe\">\n",
       "  <thead>\n",
       "    <tr style=\"text-align: right;\">\n",
       "      <th></th>\n",
       "      <th>pregnant</th>\n",
       "      <th>glucose</th>\n",
       "      <th>pressure</th>\n",
       "      <th>triceps</th>\n",
       "      <th>insulin</th>\n",
       "      <th>mass</th>\n",
       "      <th>pedigree</th>\n",
       "      <th>age</th>\n",
       "      <th>diabetes</th>\n",
       "    </tr>\n",
       "  </thead>\n",
       "  <tbody>\n",
       "    <tr>\n",
       "      <th>count</th>\n",
       "      <td>768.000000</td>\n",
       "      <td>763.000000</td>\n",
       "      <td>733.000000</td>\n",
       "      <td>541.000000</td>\n",
       "      <td>394.000000</td>\n",
       "      <td>757.000000</td>\n",
       "      <td>768.000000</td>\n",
       "      <td>768.000000</td>\n",
       "      <td>768</td>\n",
       "    </tr>\n",
       "    <tr>\n",
       "      <th>unique</th>\n",
       "      <td>NaN</td>\n",
       "      <td>NaN</td>\n",
       "      <td>NaN</td>\n",
       "      <td>NaN</td>\n",
       "      <td>NaN</td>\n",
       "      <td>NaN</td>\n",
       "      <td>NaN</td>\n",
       "      <td>NaN</td>\n",
       "      <td>2</td>\n",
       "    </tr>\n",
       "    <tr>\n",
       "      <th>top</th>\n",
       "      <td>NaN</td>\n",
       "      <td>NaN</td>\n",
       "      <td>NaN</td>\n",
       "      <td>NaN</td>\n",
       "      <td>NaN</td>\n",
       "      <td>NaN</td>\n",
       "      <td>NaN</td>\n",
       "      <td>NaN</td>\n",
       "      <td>neg</td>\n",
       "    </tr>\n",
       "    <tr>\n",
       "      <th>freq</th>\n",
       "      <td>NaN</td>\n",
       "      <td>NaN</td>\n",
       "      <td>NaN</td>\n",
       "      <td>NaN</td>\n",
       "      <td>NaN</td>\n",
       "      <td>NaN</td>\n",
       "      <td>NaN</td>\n",
       "      <td>NaN</td>\n",
       "      <td>500</td>\n",
       "    </tr>\n",
       "    <tr>\n",
       "      <th>mean</th>\n",
       "      <td>3.845052</td>\n",
       "      <td>121.686763</td>\n",
       "      <td>72.405184</td>\n",
       "      <td>29.153420</td>\n",
       "      <td>155.548223</td>\n",
       "      <td>32.457464</td>\n",
       "      <td>0.471876</td>\n",
       "      <td>33.240885</td>\n",
       "      <td>NaN</td>\n",
       "    </tr>\n",
       "    <tr>\n",
       "      <th>std</th>\n",
       "      <td>3.369578</td>\n",
       "      <td>30.535641</td>\n",
       "      <td>12.382158</td>\n",
       "      <td>10.476982</td>\n",
       "      <td>118.775855</td>\n",
       "      <td>6.924988</td>\n",
       "      <td>0.331329</td>\n",
       "      <td>11.760232</td>\n",
       "      <td>NaN</td>\n",
       "    </tr>\n",
       "    <tr>\n",
       "      <th>min</th>\n",
       "      <td>0.000000</td>\n",
       "      <td>44.000000</td>\n",
       "      <td>24.000000</td>\n",
       "      <td>7.000000</td>\n",
       "      <td>14.000000</td>\n",
       "      <td>18.200000</td>\n",
       "      <td>0.078000</td>\n",
       "      <td>21.000000</td>\n",
       "      <td>NaN</td>\n",
       "    </tr>\n",
       "    <tr>\n",
       "      <th>25%</th>\n",
       "      <td>1.000000</td>\n",
       "      <td>99.000000</td>\n",
       "      <td>64.000000</td>\n",
       "      <td>22.000000</td>\n",
       "      <td>76.250000</td>\n",
       "      <td>27.500000</td>\n",
       "      <td>0.243750</td>\n",
       "      <td>24.000000</td>\n",
       "      <td>NaN</td>\n",
       "    </tr>\n",
       "    <tr>\n",
       "      <th>50%</th>\n",
       "      <td>3.000000</td>\n",
       "      <td>117.000000</td>\n",
       "      <td>72.000000</td>\n",
       "      <td>29.000000</td>\n",
       "      <td>125.000000</td>\n",
       "      <td>32.300000</td>\n",
       "      <td>0.372500</td>\n",
       "      <td>29.000000</td>\n",
       "      <td>NaN</td>\n",
       "    </tr>\n",
       "    <tr>\n",
       "      <th>75%</th>\n",
       "      <td>6.000000</td>\n",
       "      <td>141.000000</td>\n",
       "      <td>80.000000</td>\n",
       "      <td>36.000000</td>\n",
       "      <td>190.000000</td>\n",
       "      <td>36.600000</td>\n",
       "      <td>0.626250</td>\n",
       "      <td>41.000000</td>\n",
       "      <td>NaN</td>\n",
       "    </tr>\n",
       "    <tr>\n",
       "      <th>max</th>\n",
       "      <td>17.000000</td>\n",
       "      <td>199.000000</td>\n",
       "      <td>122.000000</td>\n",
       "      <td>99.000000</td>\n",
       "      <td>846.000000</td>\n",
       "      <td>67.100000</td>\n",
       "      <td>2.420000</td>\n",
       "      <td>81.000000</td>\n",
       "      <td>NaN</td>\n",
       "    </tr>\n",
       "  </tbody>\n",
       "</table>\n",
       "</div>"
      ],
      "text/plain": [
       "          pregnant     glucose    pressure     triceps     insulin  \\\n",
       "count   768.000000  763.000000  733.000000  541.000000  394.000000   \n",
       "unique         NaN         NaN         NaN         NaN         NaN   \n",
       "top            NaN         NaN         NaN         NaN         NaN   \n",
       "freq           NaN         NaN         NaN         NaN         NaN   \n",
       "mean      3.845052  121.686763   72.405184   29.153420  155.548223   \n",
       "std       3.369578   30.535641   12.382158   10.476982  118.775855   \n",
       "min       0.000000   44.000000   24.000000    7.000000   14.000000   \n",
       "25%       1.000000   99.000000   64.000000   22.000000   76.250000   \n",
       "50%       3.000000  117.000000   72.000000   29.000000  125.000000   \n",
       "75%       6.000000  141.000000   80.000000   36.000000  190.000000   \n",
       "max      17.000000  199.000000  122.000000   99.000000  846.000000   \n",
       "\n",
       "              mass    pedigree         age diabetes  \n",
       "count   757.000000  768.000000  768.000000      768  \n",
       "unique         NaN         NaN         NaN        2  \n",
       "top            NaN         NaN         NaN      neg  \n",
       "freq           NaN         NaN         NaN      500  \n",
       "mean     32.457464    0.471876   33.240885      NaN  \n",
       "std       6.924988    0.331329   11.760232      NaN  \n",
       "min      18.200000    0.078000   21.000000      NaN  \n",
       "25%      27.500000    0.243750   24.000000      NaN  \n",
       "50%      32.300000    0.372500   29.000000      NaN  \n",
       "75%      36.600000    0.626250   41.000000      NaN  \n",
       "max      67.100000    2.420000   81.000000      NaN  "
      ]
     },
     "execution_count": 6,
     "metadata": {},
     "output_type": "execute_result"
    }
   ],
   "source": [
    "diabetes_data.describe(include='all') # Show all columns regardless of type"
   ]
  },
  {
   "cell_type": "code",
   "execution_count": 7,
   "metadata": {},
   "outputs": [
    {
     "name": "stdout",
     "output_type": "stream",
     "text": [
      "<class 'pandas.core.frame.DataFrame'>\n",
      "RangeIndex: 768 entries, 0 to 767\n",
      "Data columns (total 9 columns):\n",
      " #   Column    Non-Null Count  Dtype  \n",
      "---  ------    --------------  -----  \n",
      " 0   pregnant  768 non-null    int64  \n",
      " 1   glucose   763 non-null    float64\n",
      " 2   pressure  733 non-null    float64\n",
      " 3   triceps   541 non-null    float64\n",
      " 4   insulin   394 non-null    float64\n",
      " 5   mass      757 non-null    float64\n",
      " 6   pedigree  768 non-null    float64\n",
      " 7   age       768 non-null    int64  \n",
      " 8   diabetes  768 non-null    object \n",
      "dtypes: float64(6), int64(2), object(1)\n",
      "memory usage: 54.1+ KB\n"
     ]
    }
   ],
   "source": [
    "diabetes_data.info()  # What is happening under the hood, i.e. information about the dataframe itself"
   ]
  },
  {
   "cell_type": "code",
   "execution_count": 8,
   "metadata": {},
   "outputs": [
    {
     "data": {
      "image/png": "[encoded data removed]",
      "text/plain": [
       "<Figure size 1440x1440 with 9 Axes>"
      ]
     },
     "metadata": {
      "needs_background": "light"
     },
     "output_type": "display_data"
    }
   ],
   "source": [
    "diabetes_data.hist(figsize=(20,20))  \n",
    "plt.show()"
   ]
  },
  {
   "cell_type": "code",
   "execution_count": 21,
   "metadata": {},
   "outputs": [
    {
     "name": "stdout",
     "output_type": "stream",
     "text": [
      "Index(['pregnant', 'glucose', 'pressure', 'triceps', 'insulin', 'mass',\n",
      "       'pedigree', 'age', 'diabetes'],\n",
      "      dtype='object')\n"
     ]
    }
   ],
   "source": [
    "# Next we wish to perform classification.\n",
    "\n",
    "print(diabetes_data.columns) # The eighth column entitled \"diabetes\" is the outcome we wish to predict\n",
    "\n",
    "cleaned_diabetes_data = diabetes_data.fillna(0)\n",
    "x = cleaned_diabetes_data.drop('diabetes',1) # column = 1, row = 0 # returns a copy\n",
    "y = cleaned_diabetes_data['diabetes'].copy() # make a fresh copy of the column that contains our response\n",
    "\n",
    "# Split into train/test subsets\n",
    "# The following hard-codes the split which uses the last 700 rows to build a model\n",
    "\n",
    "x_train = x[(len(x.index) - 700):len(x.index)] # note the index rows 68 to 768 are selected\n",
    "x_test = x[0:(len(x.index) - 700)] # rows 68 up to the end\n",
    "\n",
    "\n",
    "y_train = y[(len(x.index) - 700):len(x.index)]\n",
    "y_test = y[0:(len(x.index) - 700)] \n",
    "\n",
    "# Note these slices all need to correspond. Furthermore we may wish to split using different rows."
   ]
  },
  {
   "cell_type": "code",
   "execution_count": 29,
   "metadata": {},
   "outputs": [
    {
     "data": {
      "text/plain": [
       "LogisticRegression(C=1.0, class_weight=None, dual=False, fit_intercept=True,\n",
       "                   intercept_scaling=1, l1_ratio=None, max_iter=100,\n",
       "                   multi_class='auto', n_jobs=None, penalty='l2',\n",
       "                   random_state=None, solver='liblinear', tol=0.0001, verbose=0,\n",
       "                   warm_start=False)"
      ]
     },
     "execution_count": 29,
     "metadata": {},
     "output_type": "execute_result"
    }
   ],
   "source": [
    "# To perform classification using logistic regression.  \n",
    "\n",
    "from sklearn.linear_model import LogisticRegression\n",
    "\n",
    "# https://scikit-learn.org/stable/modules/generated/sklearn.linear_model.LogisticRegression.html\n",
    "# There are numerous ways to perform the optimisation step. We shall use liblinear. But note that this perform regularization. \n",
    "log_reg = LogisticRegression(solver='liblinear') \n",
    "\n",
    "\n",
    "#Lets build a model\n",
    "log_reg.fit(x_train, y_train)"
   ]
  },
  {
   "cell_type": "code",
   "execution_count": 30,
   "metadata": {},
   "outputs": [
    {
     "data": {
      "text/plain": [
       "0.6764705882352942"
      ]
     },
     "execution_count": 30,
     "metadata": {},
     "output_type": "execute_result"
    }
   ],
   "source": [
    "y_predict = log_reg.predict(x_test)\n",
    "\n",
    "# Note: https://scikit-learn.org/stable/modules/generated/sklearn.linear_model.LogisticRegression.html\n",
    "# The underlying C implementation uses a random number generator to select features when fitting the model. \n",
    "# It is thus not uncommon, to have slightly different results for the same input data. \n",
    "# If that happens, try with a smaller tol parameter.\n",
    "log_reg.score(x_test, y_test)"
   ]
  },
  {
   "cell_type": "code",
   "execution_count": 20,
   "metadata": {},
   "outputs": [
    {
     "name": "stdout",
     "output_type": "stream",
     "text": [
      "Coefficients = [[ 0.1232537   0.02921841 -0.01789112 -0.00359208 -0.00088037  0.06516071\n",
      "   0.79151181  0.00374585]] \n",
      "\n",
      "Intercepts=[-5.9698138]\n"
     ]
    }
   ],
   "source": [
    "# Similar result to R but there is no ability to obtain the significance or otherwise of the model.\n",
    "# We can view the coefficents of the model\n",
    "\n",
    "# Perhaps print using f strings\n",
    "print(f\"Coefficients = {log_reg.coef_} \\n\\nIntercepts={log_reg.intercept_}\")"
   ]
  },
  {
   "cell_type": "markdown",
   "metadata": {},
   "source": [
    "### We repeat the above process after removing the column - \"triceps\" from the training data and then comparing the results."
   ]
  },
  {
   "cell_type": "code",
   "execution_count": 43,
   "metadata": {},
   "outputs": [],
   "source": [
    "filtered_diabetes_data = cleaned_diabetes_data.drop('triceps',1)"
   ]
  },
  {
   "cell_type": "code",
   "execution_count": 42,
   "metadata": {},
   "outputs": [
    {
     "name": "stdout",
     "output_type": "stream",
     "text": [
      "Index(['pregnant', 'glucose', 'pressure', 'insulin', 'mass', 'pedigree', 'age',\n",
      "       'diabetes'],\n",
      "      dtype='object')\n"
     ]
    }
   ],
   "source": [
    "# Next we wish to perform classification.\n",
    "\n",
    "print(filtered_diabetes_data.columns) # The eighth column entitled \"diabetes\" is the outcome we wish to predict\n",
    "\n",
    "x = filtered_diabetes_data.drop('diabetes',1) # column = 1, row = 0 # returns a copy\n",
    "y = filtered_diabetes_data['diabetes'].copy() # make a fresh copy of the column that contains our response\n",
    "\n",
    "# Split into train/test subsets\n",
    "# The following hard-codes the split which uses the last 700 rows to build a model\n",
    "\n",
    "x_train = x[(len(x.index) - 700):len(x.index)] # note the index rows 68 to 768 are selected\n",
    "x_test = x[0:(len(x.index) - 700)] # rows 68 up to the end\n",
    "\n",
    "\n",
    "y_train = y[(len(x.index) - 700):len(x.index)]\n",
    "y_test = y[0:(len(x.index) - 700)] \n",
    "\n",
    "# Note these slices all need to correspond. Furthermore we may wish to split using different rows."
   ]
  },
  {
   "cell_type": "code",
   "execution_count": 38,
   "metadata": {},
   "outputs": [
    {
     "data": {
      "text/plain": [
       "LogisticRegression(C=1.0, class_weight=None, dual=False, fit_intercept=True,\n",
       "                   intercept_scaling=1, l1_ratio=None, max_iter=100,\n",
       "                   multi_class='auto', n_jobs=None, penalty='l2',\n",
       "                   random_state=None, solver='liblinear', tol=0.0001, verbose=0,\n",
       "                   warm_start=False)"
      ]
     },
     "execution_count": 38,
     "metadata": {},
     "output_type": "execute_result"
    }
   ],
   "source": [
    "# To perform classification using logistic regression.  \n",
    "\n",
    "from sklearn.linear_model import LogisticRegression\n",
    "\n",
    "# https://scikit-learn.org/stable/modules/generated/sklearn.linear_model.LogisticRegression.html\n",
    "# There are numerous ways to perform the optimisation step. We shall use liblinear. But note that this perform regularization. \n",
    "log_reg = LogisticRegression(solver='liblinear') \n",
    "\n",
    "\n",
    "#Lets build a model\n",
    "log_reg.fit(x_train, y_train)"
   ]
  },
  {
   "cell_type": "code",
   "execution_count": 39,
   "metadata": {},
   "outputs": [
    {
     "data": {
      "text/plain": [
       "0.6764705882352942"
      ]
     },
     "execution_count": 39,
     "metadata": {},
     "output_type": "execute_result"
    }
   ],
   "source": [
    "y_predict = log_reg.predict(x_test)\n",
    "\n",
    "# Note: https://scikit-learn.org/stable/modules/generated/sklearn.linear_model.LogisticRegression.html\n",
    "# The underlying C implementation uses a random number generator to select features when fitting the model. \n",
    "# It is thus not uncommon, to have slightly different results for the same input data. \n",
    "# If that happens, try with a smaller tol parameter.\n",
    "log_reg.score(x_test, y_test)"
   ]
  },
  {
   "cell_type": "markdown",
   "metadata": {},
   "source": [
    "### Summary\n",
    "\n",
    "The above result suggests that removing the column triceps had little / no effect on the accuracy of the model."
   ]
  },
  {
   "cell_type": "code",
   "execution_count": 40,
   "metadata": {},
   "outputs": [
    {
     "name": "stdout",
     "output_type": "stream",
     "text": [
      "Coefficients = [[ 0.12325067  0.02945184 -0.01831371 -0.00107529  0.0629126   0.77904541\n",
      "   0.00416614]] \n",
      "\n",
      "Intercepts=[-5.96243524]\n"
     ]
    }
   ],
   "source": [
    "# Similar result to R but there is no ability to obtain the significance or otherwise of the model.\n",
    "# We can view the coefficents of the model\n",
    "\n",
    "# Perhaps print using f strings\n",
    "print(f\"Coefficients = {log_reg.coef_} \\n\\nIntercepts={log_reg.intercept_}\")"
   ]
  },
  {
   "cell_type": "markdown",
   "metadata": {},
   "source": [
    "### We repeat the above process after removing the columns that have atleast a single NA value."
   ]
  },
  {
   "cell_type": "code",
   "execution_count": 49,
   "metadata": {},
   "outputs": [],
   "source": [
    "no_na_diabetes_data = diabetes_data.dropna(axis='columns')"
   ]
  },
  {
   "cell_type": "code",
   "execution_count": 50,
   "metadata": {},
   "outputs": [
    {
     "data": {
      "text/html": [
       "<div>\n",
       "<style scoped>\n",
       "    .dataframe tbody tr th:only-of-type {\n",
       "        vertical-align: middle;\n",
       "    }\n",
       "\n",
       "    .dataframe tbody tr th {\n",
       "        vertical-align: top;\n",
       "    }\n",
       "\n",
       "    .dataframe thead th {\n",
       "        text-align: right;\n",
       "    }\n",
       "</style>\n",
       "<table border=\"1\" class=\"dataframe\">\n",
       "  <thead>\n",
       "    <tr style=\"text-align: right;\">\n",
       "      <th></th>\n",
       "      <th>pregnant</th>\n",
       "      <th>pedigree</th>\n",
       "      <th>age</th>\n",
       "      <th>diabetes</th>\n",
       "    </tr>\n",
       "  </thead>\n",
       "  <tbody>\n",
       "    <tr>\n",
       "      <th>0</th>\n",
       "      <td>6</td>\n",
       "      <td>0.627</td>\n",
       "      <td>50</td>\n",
       "      <td>pos</td>\n",
       "    </tr>\n",
       "    <tr>\n",
       "      <th>1</th>\n",
       "      <td>1</td>\n",
       "      <td>0.351</td>\n",
       "      <td>31</td>\n",
       "      <td>neg</td>\n",
       "    </tr>\n",
       "    <tr>\n",
       "      <th>2</th>\n",
       "      <td>8</td>\n",
       "      <td>0.672</td>\n",
       "      <td>32</td>\n",
       "      <td>pos</td>\n",
       "    </tr>\n",
       "    <tr>\n",
       "      <th>3</th>\n",
       "      <td>1</td>\n",
       "      <td>0.167</td>\n",
       "      <td>21</td>\n",
       "      <td>neg</td>\n",
       "    </tr>\n",
       "    <tr>\n",
       "      <th>4</th>\n",
       "      <td>0</td>\n",
       "      <td>2.288</td>\n",
       "      <td>33</td>\n",
       "      <td>pos</td>\n",
       "    </tr>\n",
       "  </tbody>\n",
       "</table>\n",
       "</div>"
      ],
      "text/plain": [
       "   pregnant  pedigree  age diabetes\n",
       "0         6     0.627   50      pos\n",
       "1         1     0.351   31      neg\n",
       "2         8     0.672   32      pos\n",
       "3         1     0.167   21      neg\n",
       "4         0     2.288   33      pos"
      ]
     },
     "execution_count": 50,
     "metadata": {},
     "output_type": "execute_result"
    }
   ],
   "source": [
    "no_na_diabetes_data.head()"
   ]
  },
  {
   "cell_type": "code",
   "execution_count": 51,
   "metadata": {},
   "outputs": [
    {
     "name": "stdout",
     "output_type": "stream",
     "text": [
      "<class 'pandas.core.frame.DataFrame'>\n",
      "RangeIndex: 768 entries, 0 to 767\n",
      "Data columns (total 4 columns):\n",
      " #   Column    Non-Null Count  Dtype  \n",
      "---  ------    --------------  -----  \n",
      " 0   pregnant  768 non-null    int64  \n",
      " 1   pedigree  768 non-null    float64\n",
      " 2   age       768 non-null    int64  \n",
      " 3   diabetes  768 non-null    object \n",
      "dtypes: float64(1), int64(2), object(1)\n",
      "memory usage: 24.1+ KB\n"
     ]
    }
   ],
   "source": [
    "no_na_diabetes_data.info()  # What is happening under the hood, i.e. information about the dataframe itself"
   ]
  },
  {
   "cell_type": "code",
   "execution_count": 52,
   "metadata": {},
   "outputs": [
    {
     "name": "stdout",
     "output_type": "stream",
     "text": [
      "Index(['pregnant', 'pedigree', 'age', 'diabetes'], dtype='object')\n"
     ]
    }
   ],
   "source": [
    "# Next we wish to perform classification.\n",
    "\n",
    "print(no_na_diabetes_data.columns) # The eighth column entitled \"diabetes\" is the outcome we wish to predict\n",
    "\n",
    "x = no_na_diabetes_data.drop('diabetes',1) # column = 1, row = 0 # returns a copy\n",
    "y = no_na_diabetes_data['diabetes'].copy() # make a fresh copy of the column that contains our response\n",
    "\n",
    "# Split into train/test subsets\n",
    "# The following hard-codes the split which uses the last 700 rows to build a model\n",
    "\n",
    "x_train = x[(len(x.index) - 700):len(x.index)] # note the index rows 68 to 768 are selected\n",
    "x_test = x[0:(len(x.index) - 700)] # rows 68 up to the end\n",
    "\n",
    "\n",
    "y_train = y[(len(x.index) - 700):len(x.index)]\n",
    "y_test = y[0:(len(x.index) - 700)] \n",
    "\n",
    "# Note these slices all need to correspond. Furthermore we may wish to split using different rows."
   ]
  },
  {
   "cell_type": "code",
   "execution_count": 53,
   "metadata": {},
   "outputs": [
    {
     "data": {
      "text/plain": [
       "LogisticRegression(C=1.0, class_weight=None, dual=False, fit_intercept=True,\n",
       "                   intercept_scaling=1, l1_ratio=None, max_iter=100,\n",
       "                   multi_class='auto', n_jobs=None, penalty='l2',\n",
       "                   random_state=None, solver='liblinear', tol=0.0001, verbose=0,\n",
       "                   warm_start=False)"
      ]
     },
     "execution_count": 53,
     "metadata": {},
     "output_type": "execute_result"
    }
   ],
   "source": [
    "# To perform classification using logistic regression.  \n",
    "\n",
    "from sklearn.linear_model import LogisticRegression\n",
    "\n",
    "# https://scikit-learn.org/stable/modules/generated/sklearn.linear_model.LogisticRegression.html\n",
    "# There are numerous ways to perform the optimisation step. We shall use liblinear. But note that this perform regularization. \n",
    "log_reg = LogisticRegression(solver='liblinear') \n",
    "\n",
    "\n",
    "#Lets build a model\n",
    "log_reg.fit(x_train, y_train)"
   ]
  },
  {
   "cell_type": "code",
   "execution_count": 54,
   "metadata": {},
   "outputs": [
    {
     "data": {
      "text/plain": [
       "0.5588235294117647"
      ]
     },
     "execution_count": 54,
     "metadata": {},
     "output_type": "execute_result"
    }
   ],
   "source": [
    "y_predict = log_reg.predict(x_test)\n",
    "\n",
    "# Note: https://scikit-learn.org/stable/modules/generated/sklearn.linear_model.LogisticRegression.html\n",
    "# The underlying C implementation uses a random number generator to select features when fitting the model. \n",
    "# It is thus not uncommon, to have slightly different results for the same input data. \n",
    "# If that happens, try with a smaller tol parameter.\n",
    "log_reg.score(x_test, y_test)"
   ]
  },
  {
   "cell_type": "code",
   "execution_count": 55,
   "metadata": {},
   "outputs": [
    {
     "name": "stdout",
     "output_type": "stream",
     "text": [
      "Coefficients = [[0.09391456 1.05568132 0.02289256]] \n",
      "\n",
      "Intercepts=[-2.29301249]\n"
     ]
    }
   ],
   "source": [
    "# Similar result to R but there is no ability to obtain the significance or otherwise of the model.\n",
    "# We can view the coefficents of the model\n",
    "\n",
    "# Perhaps print using f strings\n",
    "print(f\"Coefficients = {log_reg.coef_} \\n\\nIntercepts={log_reg.intercept_}\")"
   ]
  },
  {
   "cell_type": "markdown",
   "metadata": {},
   "source": [
    "### Summary\n",
    "\n",
    "The above result suggests that even though the columns had missing data, because the accuracy went down from 67.64% to 55.88%, there were some useful information in them that was not worth getting rid of."
   ]
  },
  {
   "cell_type": "code",
   "execution_count": null,
   "metadata": {},
   "outputs": [],
   "source": []
  }
 ],
 "metadata": {
  "kernelspec": {
   "display_name": "Python 3",
   "language": "python",
   "name": "python3"
  },
  "language_info": {
   "codemirror_mode": {
    "name": "ipython",
    "version": 3
   },
   "file_extension": ".py",
   "mimetype": "text/x-python",
   "name": "python",
   "nbconvert_exporter": "python",
   "pygments_lexer": "ipython3",
   "version": "3.7.6"
  }
 },
 "nbformat": 4,
 "nbformat_minor": 4
}
